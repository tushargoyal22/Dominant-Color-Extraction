{
  "nbformat": 4,
  "nbformat_minor": 0,
  "metadata": {
    "colab": {
      "name": "KmeansPR.ipynb",
      "provenance": []
    },
    "kernelspec": {
      "name": "python3",
      "display_name": "Python 3"
    }
  },
  "cells": [
    {
      "cell_type": "code",
      "metadata": {
        "id": "2s4lLiNMQvEe"
      },
      "source": [
        "#importing required libraries\n",
        "import pandas as pd\n",
        "import numpy as np\n",
        "import matplotlib.pyplot as plt"
      ],
      "execution_count": null,
      "outputs": []
    },
    {
      "cell_type": "markdown",
      "metadata": {
        "id": "tQPBSNnA_Lp3"
      },
      "source": [
        "![picture](https://drive.google.com/uc?id=1P2QdWVUlnJWaIOLJsMIroeyjnwZyT5HX)\n",
        "\n"
      ]
    },
    {
      "cell_type": "code",
      "metadata": {
        "id": "RU6SZmIsSKcO"
      },
      "source": [
        "#Function to read data on given path into a dataframe\n",
        "def read_data(file_path):\n",
        "  data = pd.read_csv(file_path, sep='\\t', header=None)\n",
        "  #Make list of empty columns\n",
        "  empty_cols = [col for col in data.columns if data[col].isnull().all()]\n",
        "  # Drop these columns from the dataframe\n",
        "  data.drop(empty_cols, axis=1, inplace=True) \n",
        "  #Return dataframe\n",
        "  return data"
      ],
      "execution_count": null,
      "outputs": []
    },
    {
      "cell_type": "markdown",
      "metadata": {
        "id": "OLhf5AL__baK"
      },
      "source": [
        "![picture](https://drive.google.com/uc?id=1qLnqhB8ZupNldoFdwzWIpw5eVT0lBcHQ)\n",
        "\n",
        "\n"
      ]
    },
    {
      "cell_type": "code",
      "metadata": {
        "id": "lu4LLJe9agF_"
      },
      "source": [
        "#Function to calculate distance between 2 numpy arrays\n",
        "def distance(v1,v2):\n",
        "  dis = np.sqrt(np.sum((v1-v2)**2))\n",
        "  return dis"
      ],
      "execution_count": null,
      "outputs": []
    },
    {
      "cell_type": "markdown",
      "metadata": {
        "id": "zmF9fabH910o"
      },
      "source": [
        "\n",
        "![picture](https://drive.google.com/uc?id=1jUOHoGgzaKvvt1kyG-5ruxWqKldzIHgQ)\n",
        "\n",
        "\n",
        "\n"
      ]
    },
    {
      "cell_type": "code",
      "metadata": {
        "id": "lgm5YXFjW1Ut"
      },
      "source": [
        "#Function to randomly initialise centers from the dataframe\n",
        "def centers_initialise(data, n_clusters):\n",
        "  index = []\n",
        "  for i in range(n_clusters):\n",
        "    index.append(i)\n",
        "  ini_centers = data.sample(n_clusters)\n",
        "  ini_centers.index = index\n",
        "  return ini_centers"
      ],
      "execution_count": null,
      "outputs": []
    },
    {
      "cell_type": "code",
      "metadata": {
        "id": "ZK_KXXxKbVCc"
      },
      "source": [
        "def update_centers(data, predictions, centers):\n",
        "  n_clusters = len(centers)\n",
        "  for i in range(n_clusters):\n",
        "    index = np.where(predictions==i)\n",
        "    centers.iloc[i] = data.iloc[index].mean()\n",
        "  return centers"
      ],
      "execution_count": null,
      "outputs": []
    },
    {
      "cell_type": "code",
      "metadata": {
        "id": "4U6pBBy6ZXw-"
      },
      "source": [
        "def assign_points(centers, data, predictions):\n",
        "  n_clusters = len(centers)\n",
        "  for i in range(len(data)):\n",
        "    dis = distance(data.iloc[i], centers[0])\n",
        "    predictions[i] = 0\n",
        "    for j in range(1,n_clusters,1):\n",
        "      if(distance(data.iloc[i], centers[j]) < dis):\n",
        "        dis = distance(data.iloc[i], centers[j])\n",
        "        predictions[i] = j\n",
        "  return predictions\n"
      ],
      "execution_count": null,
      "outputs": []
    },
    {
      "cell_type": "code",
      "metadata": {
        "id": "_T9Lya__k0ig"
      },
      "source": [
        "def cost_kmeans(data, centers, predictions):\n",
        "  cost = 0\n",
        "  for i in range(len(data)):\n",
        "    cost = cost + distance(data.iloc[i], centers[predictions[i]])\n",
        "  cost = cost/len(data)\n",
        "  return cost"
      ],
      "execution_count": null,
      "outputs": []
    },
    {
      "cell_type": "code",
      "metadata": {
        "id": "cuvRnesHbF6v"
      },
      "source": [
        "def kmeans(data, n_clusters):\n",
        "  ini_centers = centers_initialise(data, n_clusters)\n",
        "  predictions = np.zeros(len(data))\n",
        "  predictions = assign_points(ini_centers, data, predictions)\n",
        "  centers = update_centers(data, predictions, ini_centers)\n",
        "  cost = cost_kmeans(data, centers, predictions)\n",
        "  iter = 1\n",
        "  cost_prev = 0\n",
        "  while(abs(cost-cost_prev)>0.0001 and iter<1000):\n",
        "    cost_prev = cost\n",
        "    predictions = assign_points(centers, data, predictions)\n",
        "    centers = update_centers(data, predictions, centers)\n",
        "    cost = cost_kmeans(data, centers, predictions)\n",
        "    iter = iter + 1\n",
        "  return centers, predictions\n"
      ],
      "execution_count": null,
      "outputs": []
    },
    {
      "cell_type": "code",
      "metadata": {
        "colab": {
          "base_uri": "https://localhost:8080/",
          "height": 562
        },
        "id": "JHbW3SH9B5Sz",
        "outputId": "e0d3dda0-0aeb-4df2-a2cc-9977a52733ae"
      },
      "source": [
        "if __name__ == '__main__':\n",
        "  df1 = read_data(\"Class1.txt\")\n",
        "  df2 = read_data(\"Class2.txt\")\n",
        "  plt.figure()\n",
        "  plt.scatter(df1[[0]],df1[[1]],label=\"Class1\")\n",
        "  plt.scatter(df2[[0]],df2[[1]],label=\"Class2\")\n",
        "  plt.title(\"Original Distribution of data\")\n",
        "\n",
        "  df = pd.concat([df1,df2], ignore_index = True)\n",
        "  centers, predictions = kmeans(df,2)\n",
        "\n",
        "  plt.figure()\n",
        "  plt.scatter(df.loc[np.where(predictions==0)][[0]], df.loc[np.where(predictions==0)][[1]])\n",
        "  plt.scatter(df.loc[np.where(predictions==1)][[0]], df.loc[np.where(predictions==1)][[1]])\n",
        "  plt.scatter(centers[[0]], centers[[1]], c=\"r\")\n",
        "  plt.title(\"Distribution after applying kmeans\")\n",
        "  \n",
        "  corr_pred = 0\n",
        "  for i in range(1000):\n",
        "    if(predictions[i]==0):\n",
        "      corr_pred = corr_pred+1\n",
        "  for i in range(1000,2000,1):\n",
        "    if(predictions[i]==1):\n",
        "      corr_pred = corr_pred+1\n",
        "  accuracy = corr_pred/2000\n",
        "  print(\"Accuracy using kmeans is : \",max(accuracy, 1-accuracy))"
      ],
      "execution_count": null,
      "outputs": [
        {
          "output_type": "stream",
          "text": [
            "Accuracy using kmeans is :  0.9745\n"
          ],
          "name": "stdout"
        },
        {
          "output_type": "display_data",
          "data": {
            "image/png": "[encoded data removed]",
            "text/plain": [
              "<Figure size 432x288 with 1 Axes>"
            ]
          },
          "metadata": {
            "tags": [],
            "needs_background": "light"
          }
        },
        {
          "output_type": "display_data",
          "data": {
            "image/png": "[encoded data removed]",
            "text/plain": [
              "<Figure size 432x288 with 1 Axes>"
            ]
          },
          "metadata": {
            "tags": [],
            "needs_background": "light"
          }
        }
      ]
    }
  ]
}